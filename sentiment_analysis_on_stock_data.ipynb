{
  "cells": [
    {
      "cell_type": "markdown",
      "metadata": {
        "id": "sGfo3BaqXTHI"
      },
      "source": [
        "# **Stock Market Prediction using Numerical and Textual Analysis**\n"
      ]
    },
    {
      "cell_type": "markdown",
      "source": [
        "Stock market prediction is the act of trying to determine the future value of a company stock or other financial instrument traded on an exchange. Numerical analysis involves using historical stock prices and other financial data to make predictions. Textual analysis involves analyzing news articles, social media posts, and other text data to extract insights that can be used to make predictions. By combining both numerical and textual analysis, we can build more accurate and robust models for predicting stock prices."
      ],
      "metadata": {
        "id": "qtF1UTBUd9OE"
      }
    },
    {
      "cell_type": "markdown",
      "metadata": {
        "id": "6jqot9S3ZQbq"
      },
      "source": [
        "## Importing the Necessary Modules and Data\n",
        "Before we begin our analysis, we need to import the necessary modules and data. We will be using the BSESN (Bombay Stock Exchange Sensitive Index) dataset to obtain historical stock prices and the News-Headlines dataset to obtain news articles for our textual analysis.\n"
      ]
    },
    {
      "cell_type": "code",
      "execution_count": null,
      "metadata": {
        "id": "qHcKTal3JrB9"
      },
      "outputs": [],
      "source": [
        "# Have to use this version of scikit-learn, for mean_absolute_error \n",
        "# !pip install 'scikit-learn==0.24.0' \n"
      ]
    },
    {
      "cell_type": "code",
      "execution_count": 2,
      "metadata": {
        "colab": {
          "base_uri": "https://localhost:8080/"
        },
        "id": "6v4r-UC33DFm",
        "outputId": "ced094c8-36e2-461a-a944-54d27e14dba0"
      },
      "outputs": [
        {
          "output_type": "stream",
          "name": "stderr",
          "text": [
            "[nltk_data] Downloading package stopwords to /root/nltk_data...\n",
            "[nltk_data]   Unzipping corpora/stopwords.zip.\n",
            "[nltk_data] Downloading package vader_lexicon to /root/nltk_data...\n"
          ]
        }
      ],
      "source": [
        "\n",
        "\n",
        "import pandas as pd\n",
        "import numpy as np\n",
        "from numpy import concatenate\n",
        "from math import sqrt\n",
        "import matplotlib.pyplot as plt\n",
        "from matplotlib import pyplot\n",
        "import seaborn as sns\n",
        "sns.set_style('whitegrid')\n",
        "plt.style.use(\"fivethirtyeight\")\n",
        "%matplotlib inline\n",
        "import nltk\n",
        "import re\n",
        "from nltk.corpus import stopwords\n",
        "nltk.download('stopwords')\n",
        "nltk.download('vader_lexicon')\n",
        "from textblob import TextBlob\n",
        "from nltk.sentiment.vader import SentimentIntensityAnalyzer\n",
        "from nltk.stem.porter import PorterStemmer\n",
        "ps = PorterStemmer()\n",
        "from sklearn.metrics import mean_squared_error\n",
        "from sklearn.model_selection import train_test_split\n",
        "from sklearn.preprocessing import MinMaxScaler"
      ]
    },
    {
      "cell_type": "code",
      "execution_count": null,
      "metadata": {
        "id": "4EUxdUEnEeeJ"
      },
      "outputs": [],
      "source": [
        "df_prices = pd.read_csv('/content/Stock-Market-Prediction-using-Numerical-and-Textual-Analysis/data/BSESN.csv')\n",
        "df_prices"
      ]
    },
    {
      "cell_type": "code",
      "execution_count": null,
      "metadata": {
        "id": "FPIr2r4QdRGu"
      },
      "outputs": [],
      "source": [
        "cols = ['Date','Category','News']\n",
        "df_news = pd.read_csv(\"/content/Stock-Market-Prediction-using-Numerical-and-Textual-Analysis/data/india-news-headlines.csv\", names = cols)\n",
        "df_news = df_news.dropna(axis = 0, how ='any') \n",
        "df_news"
      ]
    },
    {
      "cell_type": "markdown",
      "metadata": {
        "id": "suUYrOj7bHi3"
      },
      "source": [
        "## Cleaning and Pre-processing the data:"
      ]
    },
    {
      "cell_type": "code",
      "execution_count": null,
      "metadata": {
        "id": "Tp3NSpsgeMib"
      },
      "outputs": [],
      "source": [
        "# Dropping 0 values, and the Category column as we don't require this for our analysis.\n",
        "df_news.drop(0, inplace=True)\n",
        "df_news.drop('Category', axis = 1, inplace=True)"
      ]
    },
    {
      "cell_type": "code",
      "execution_count": null,
      "metadata": {
        "id": "PVowb1Qm2ezi"
      },
      "outputs": [],
      "source": [
        "# Converting 'Date' columns from both our dataframes to type datetime\n",
        "df_news['Date'] = pd.to_datetime(df_news['Date'],format= '%Y%m%d')\n",
        "df_prices['Date'] = pd.to_datetime(df_prices['Date'])\n",
        "df_prices\n"
      ]
    },
    {
      "cell_type": "code",
      "execution_count": null,
      "metadata": {
        "id": "qzI3u7KJ2lVP"
      },
      "outputs": [],
      "source": [
        "df_news['News'] = df_news.groupby(['Date']).transform(lambda x : ' '.join(x)) \n",
        "df_news = df_news.drop_duplicates() \n",
        "df_news.reset_index(inplace = True, drop = True)\n",
        "df_news"
      ]
    },
    {
      "cell_type": "code",
      "source": [
        "# Group the dataframe by 'Date' and join the text in the 'News' column\n",
        "df_news['News'] = df_news.groupby(['Date'])['News'].transform(lambda x: ' '.join(x))\n",
        "\n",
        "# Drop duplicate rows from the dataframe\n",
        "df_news = df_news.drop_duplicates()\n",
        "\n",
        "# Reset the index of the dataframe\n",
        "df_news.reset_index(inplace=True, drop=True)\n",
        "\n"
      ],
      "metadata": {
        "id": "NdDXIXZ0WAy3"
      },
      "execution_count": null,
      "outputs": []
    },
    {
      "cell_type": "code",
      "execution_count": 14,
      "metadata": {
        "id": "4jxMFBGx2qJw"
      },
      "outputs": [],
      "source": [
        "# Initialize an empty list to store the cleaned headlines\n",
        "c = []\n",
        "\n",
        "# Loop through each headline in the 'News' column\n",
        "for i in range(len(df_news['News'])):\n",
        "    # Remove non-alphabetic characters from the headline\n",
        "    news = re.sub('[^a-zA-Z]', ' ', df_news['News'][i])\n",
        "    \n",
        "    # Convert the headline to lowercase\n",
        "    news = news.lower()\n",
        "    \n",
        "    # Split the headline into a list of words\n",
        "    news = news.split()\n",
        "    \n",
        "    # Stem the words and remove stopwords\n",
        "    news = [ps.stem(word) for word in news if word not in set(stopwords.words('english'))]\n",
        "    \n",
        "    # Join the words back into a single string\n",
        "    news = ' '.join(news)\n",
        "    \n",
        "    # Append the cleaned headline to the list\n",
        "    c.append(news)\n"
      ]
    },
    {
      "cell_type": "code",
      "source": [
        "d=pd.Series(c)\n",
        "d[23]"
      ],
      "metadata": {
        "id": "Vk7Y8eokXe3d"
      },
      "execution_count": null,
      "outputs": []
    },
    {
      "cell_type": "code",
      "execution_count": null,
      "metadata": {
        "id": "80NywnJy2q6u"
      },
      "outputs": [],
      "source": [
        "df_news['News'] = pd.Series(c)\n",
        "# df_news"
      ]
    },
    {
      "cell_type": "markdown",
      "metadata": {
        "id": "bGKd6qvAcIUh"
      },
      "source": [
        "## Calculating Subjectivity and Polarity scores using TextBlob module:"
      ]
    },
    {
      "cell_type": "code",
      "execution_count": 22,
      "metadata": {
        "id": "9o0yogHo221J"
      },
      "outputs": [],
      "source": [
        "def getSubjectivity(text):\n",
        "    \"\"\"\n",
        "    This function takes in a text string and returns its subjectivity score.\n",
        "    Subjectivity is a measure of how subjective or objective the text is.\n",
        "    A score of 0 means the text is completely objective, while a score of 1 means the text is completely subjective.\n",
        "    \"\"\"\n",
        "    return TextBlob(text).sentiment.subjectivity\n",
        "\n",
        "def getPolarity(text):\n",
        "    \"\"\"\n",
        "    This function takes in a text string and returns its polarity score.\n",
        "    Polarity is a measure of how positive or negative the text is.\n",
        "    A score of -1 means the text is completely negative, while a score of 1 means the text is completely positive.\n",
        "    A score of 0 means the text is neutral.\n",
        "    \"\"\"\n",
        "    return TextBlob(text).sentiment.polarity\n"
      ]
    },
    {
      "cell_type": "code",
      "execution_count": null,
      "metadata": {
        "id": "oHeo3Wgd24i5"
      },
      "outputs": [],
      "source": [
        "#Adding subjectivity and polarity columns\n",
        "df_news['Subjectivity'] = df_news['News'].apply(getSubjectivity)\n",
        "df_news['Polarity'] = df_news['News'].apply(getPolarity)\n",
        "# df_news"
      ]
    },
    {
      "cell_type": "markdown",
      "metadata": {
        "id": "rArXz_sXcZvR"
      },
      "source": [
        "## Carrying out Sentimental Analysis on the News Headlines:"
      ]
    },
    {
      "cell_type": "code",
      "execution_count": 25,
      "metadata": {
        "id": "fkaiMxwe3K09"
      },
      "outputs": [],
      "source": [
        "# Initialize the SentimentIntensityAnalyzer\n",
        "sia = SentimentIntensityAnalyzer()\n",
        "\n",
        "# Calculate the compound sentiment score for each headline\n",
        "df_news['Compound'] = [sia.polarity_scores(v)['compound'] for v in df_news['News']]\n",
        "\n",
        "# Calculate the negative sentiment score for each headline\n",
        "df_news['Negative'] = [sia.polarity_scores(v)['neg'] for v in df_news['News']]\n",
        "\n",
        "# Calculate the neutral sentiment score for each headline\n",
        "df_news['Neutral'] = [sia.polarity_scores(v)['neu'] for v in df_news['News']]\n",
        "\n",
        "# Calculate the positive sentiment score for each headline\n",
        "df_news['Positive'] = [sia.polarity_scores(v)['pos'] for v in df_news['News']]\n"
      ]
    },
    {
      "cell_type": "markdown",
      "metadata": {
        "id": "daD24wwDcj1p"
      },
      "source": [
        "## Now for the exciting part!\n",
        "We will use our findings from the Sentiment Analysis along with historical stock prices data to predict future stock prices using **Multivariate Time Series Forecasting**. This technique allows us to use multiple variables or features to forecast future values of a target variable. In our case, we will use the sentiment scores and historical stock prices as features to forecast future stock prices.\n",
        "\n"
      ]
    },
    {
      "cell_type": "code",
      "execution_count": null,
      "metadata": {
        "id": "3W4nk2yc3LE4"
      },
      "outputs": [],
      "source": [
        "# Merge the 'df_prices' and 'df_news' dataframes on the 'Date' column\n",
        "df_merge = pd.merge(df_prices, df_news, how='inner', on='Date')\n",
        "\n",
        "# Print the 'df_prices' dataframe\n",
        "print(df_prices)\n",
        "\n",
        "# Drop the 'Date' and 'News' columns from the merged dataframe\n",
        "df_merge.drop(['Date', 'News'], axis=1, inplace=True)\n",
        "\n",
        "# Print the column names of the merged dataframe\n",
        "print(df_merge.columns)\n",
        "\n",
        "# Print the number of rows in the merged dataframe\n",
        "print(len(df_merge))\n",
        "\n",
        "# Print the number of rows in the 'df_prices' dataframe\n",
        "print(len(df_prices))\n",
        "\n",
        "# Print the number of rows in the 'df_news' dataframe\n",
        "print(len(df_news))\n"
      ]
    },
    {
      "cell_type": "code",
      "execution_count": 27,
      "metadata": {
        "id": "ecrFu9_yTHtH"
      },
      "outputs": [],
      "source": [
        "from pandas import DataFrame as df\n",
        "from pandas import concat\n",
        "\n",
        "def series_to_supervised(data, n_in=1, n_out=1, dropnan=True):\n",
        "    \"\"\"\n",
        "    This function takes in a time series dataset and converts it into a supervised learning dataset.\n",
        "    The 'n_in' parameter specifies the number of lag observations to use as input features.\n",
        "    The 'n_out' parameter specifies the number of future time steps to forecast.\n",
        "    If 'dropnan' is set to True, rows with NaN values will be dropped from the resulting dataset.\n",
        "    \"\"\"\n",
        "    # Determine the number of variables in the dataset\n",
        "    n_vars = 1 if type(data) is list else data.shape[1]\n",
        "    \n",
        "    # Convert the input data into a DataFrame\n",
        "    df1 = df(data)\n",
        "    \n",
        "    # Initialize lists to store the columns and column names\n",
        "    cols, names = list(), list()\n",
        "    \n",
        "    # Create input features using lag observations\n",
        "    for i in range(n_in, 0, -1):\n",
        "        cols.append(df1.shift(i))\n",
        "        names += [('var%d(t-%d)' % (j+1, i)) for j in range(n_vars)]\n",
        "    \n",
        "    # Create output features using future observations\n",
        "    for i in range(0, n_out):\n",
        "        cols.append(df1.shift(-i))\n",
        "        if i == 0:\n",
        "            names += [('var%d(t)' % (j+1)) for j in range(n_vars)]\n",
        "        else:\n",
        "            names += [('var%d(t+%d)' % (j+1, i)) for j in range(n_vars)]\n",
        "    \n",
        "    # Concatenate the columns into a single DataFrame\n",
        "    agg = concat(cols, axis=1)\n",
        "    \n",
        "    # Set the column names\n",
        "    agg.columns = names\n",
        "    \n",
        "    # Drop rows with NaN values if specified\n",
        "    if dropnan:\n",
        "        agg.dropna(inplace=True)\n",
        "    \n",
        "    return agg\n"
      ]
    },
    {
      "cell_type": "code",
      "execution_count": null,
      "metadata": {
        "id": "WfBvsX8mTM1p"
      },
      "outputs": [],
      "source": [
        "# Convert the values in the 'df_merge' dataframe to a NumPy array\n",
        "values = df_merge.values\n",
        "\n",
        "# Print the 'df_merge' dataframe\n",
        "print(df_merge)\n",
        "\n",
        "# Print the values array\n",
        "print(values)\n",
        "\n",
        "# Convert the values to float32\n",
        "values = values.astype('float32')\n",
        "\n",
        "# Normalize the features using MinMaxScaler\n",
        "scaler = MinMaxScaler(feature_range=(0, 1))\n",
        "scaled = scaler.fit_transform(values)\n",
        "\n",
        "# Convert the time series data into a supervised learning dataset\n",
        "reframed = series_to_supervised(scaled, 1, 1)\n",
        "\n",
        "# Drop columns that we don't want to predict\n",
        "reframed.drop(reframed.columns[[12,13,14,16,17,18,19,20,21,22,23]], axis=1, inplace=True)\n",
        "\n",
        "# Print the column names of the resulting dataset\n",
        "print(reframed.columns)\n"
      ]
    },
    {
      "cell_type": "markdown",
      "metadata": {
        "id": "6lnHts6uqgrD"
      },
      "source": [
        "### Building an LSTM (Long Short-Term Memory) Model to Predict Stock Prices\n",
        "LSTM is a type of Recurrent Neural Network (RNN) that is capable of learning long-term dependencies in data. It is particularly useful for time series forecasting, where the goal is to predict future values based on past observations. In our case, we will use an LSTM model to predict future stock prices based on our historical data and sentiment analysis findings.\n"
      ]
    },
    {
      "cell_type": "code",
      "execution_count": null,
      "metadata": {
        "id": "ze9mGTcBYaxM"
      },
      "outputs": [],
      "source": [
        "# Convert the values in the 'reframed' dataframe to a NumPy array\n",
        "values = reframed.values\n",
        "\n",
        "# Print the shape of the values array\n",
        "print(values.shape)\n",
        "\n",
        "# Split the data into training and testing sets\n",
        "n_train_hours = 90\n",
        "train = values[:n_train_hours, :]\n",
        "test = values[n_train_hours:, :]\n",
        "\n",
        "# Split the data into input and output features\n",
        "train_X, train_y = train[:, :-1], train[:, -1]\n",
        "test_X, test_y = test[:, :-1], test[:, -1]\n",
        "\n",
        "# Reshape the input data into 3D arrays (samples, timesteps, features)\n",
        "train_X = train_X.reshape((train_X.shape[0], 1, train_X.shape[1]))\n",
        "test_X = test_X.reshape((test_X.shape[0], 1, test_X.shape[1]))\n",
        "\n",
        "# Print the shapes of the training and testing data\n",
        "print(train_X.shape, train_y.shape, test_X.shape, test_y.shape)\n"
      ]
    },
    {
      "cell_type": "markdown",
      "source": [
        "This code builds and trains an LSTM network to predict stock prices. The network consists of an LSTM layer with 50 units followed by a Dense layer with a single output unit. The model is trained using the mean absolute error (MAE) loss function and the Adam optimizer. The training and validation loss are plotted over time to visualize the model’s performance during training."
      ],
      "metadata": {
        "id": "i7u8Q8yzcO9m"
      }
    },
    {
      "cell_type": "code",
      "execution_count": 30,
      "metadata": {
        "colab": {
          "base_uri": "https://localhost:8080/",
          "height": 1000
        },
        "id": "W0JIAPYrYbVc",
        "outputId": "0e7a0d97-0c45-480d-ce1a-0d65366e7b52"
      },
      "outputs": [
        {
          "output_type": "stream",
          "name": "stdout",
          "text": [
            "Epoch 1/50\n",
            "2/2 - 5s - loss: 0.5045 - val_loss: 0.4408 - 5s/epoch - 2s/step\n",
            "Epoch 2/50\n",
            "2/2 - 0s - loss: 0.4723 - val_loss: 0.4103 - 38ms/epoch - 19ms/step\n",
            "Epoch 3/50\n",
            "2/2 - 0s - loss: 0.4405 - val_loss: 0.3797 - 52ms/epoch - 26ms/step\n",
            "Epoch 4/50\n",
            "2/2 - 0s - loss: 0.4089 - val_loss: 0.3489 - 38ms/epoch - 19ms/step\n",
            "Epoch 5/50\n",
            "2/2 - 0s - loss: 0.3772 - val_loss: 0.3179 - 51ms/epoch - 25ms/step\n",
            "Epoch 6/50\n",
            "2/2 - 0s - loss: 0.3458 - val_loss: 0.2866 - 37ms/epoch - 19ms/step\n",
            "Epoch 7/50\n",
            "2/2 - 0s - loss: 0.3157 - val_loss: 0.2550 - 40ms/epoch - 20ms/step\n",
            "Epoch 8/50\n",
            "2/2 - 0s - loss: 0.2858 - val_loss: 0.2229 - 37ms/epoch - 19ms/step\n",
            "Epoch 9/50\n",
            "2/2 - 0s - loss: 0.2553 - val_loss: 0.1903 - 37ms/epoch - 18ms/step\n",
            "Epoch 10/50\n",
            "2/2 - 0s - loss: 0.2249 - val_loss: 0.1572 - 37ms/epoch - 18ms/step\n",
            "Epoch 11/50\n",
            "2/2 - 0s - loss: 0.1976 - val_loss: 0.1244 - 35ms/epoch - 18ms/step\n",
            "Epoch 12/50\n",
            "2/2 - 0s - loss: 0.1752 - val_loss: 0.0929 - 37ms/epoch - 18ms/step\n",
            "Epoch 13/50\n",
            "2/2 - 0s - loss: 0.1592 - val_loss: 0.0645 - 35ms/epoch - 18ms/step\n",
            "Epoch 14/50\n",
            "2/2 - 0s - loss: 0.1469 - val_loss: 0.0415 - 40ms/epoch - 20ms/step\n",
            "Epoch 15/50\n",
            "2/2 - 0s - loss: 0.1387 - val_loss: 0.0295 - 36ms/epoch - 18ms/step\n",
            "Epoch 16/50\n",
            "2/2 - 0s - loss: 0.1321 - val_loss: 0.0247 - 37ms/epoch - 18ms/step\n",
            "Epoch 17/50\n",
            "2/2 - 0s - loss: 0.1266 - val_loss: 0.0228 - 34ms/epoch - 17ms/step\n",
            "Epoch 18/50\n",
            "2/2 - 0s - loss: 0.1223 - val_loss: 0.0226 - 39ms/epoch - 19ms/step\n",
            "Epoch 19/50\n",
            "2/2 - 0s - loss: 0.1182 - val_loss: 0.0228 - 37ms/epoch - 18ms/step\n",
            "Epoch 20/50\n",
            "2/2 - 0s - loss: 0.1143 - val_loss: 0.0225 - 39ms/epoch - 20ms/step\n",
            "Epoch 21/50\n",
            "2/2 - 0s - loss: 0.1107 - val_loss: 0.0222 - 37ms/epoch - 18ms/step\n",
            "Epoch 22/50\n",
            "2/2 - 0s - loss: 0.1072 - val_loss: 0.0231 - 36ms/epoch - 18ms/step\n",
            "Epoch 23/50\n",
            "2/2 - 0s - loss: 0.1040 - val_loss: 0.0245 - 42ms/epoch - 21ms/step\n",
            "Epoch 24/50\n",
            "2/2 - 0s - loss: 0.1009 - val_loss: 0.0271 - 40ms/epoch - 20ms/step\n",
            "Epoch 25/50\n",
            "2/2 - 0s - loss: 0.0981 - val_loss: 0.0303 - 35ms/epoch - 18ms/step\n",
            "Epoch 26/50\n",
            "2/2 - 0s - loss: 0.0960 - val_loss: 0.0336 - 39ms/epoch - 20ms/step\n",
            "Epoch 27/50\n",
            "2/2 - 0s - loss: 0.0943 - val_loss: 0.0370 - 38ms/epoch - 19ms/step\n",
            "Epoch 28/50\n",
            "2/2 - 0s - loss: 0.0927 - val_loss: 0.0399 - 39ms/epoch - 19ms/step\n",
            "Epoch 29/50\n",
            "2/2 - 0s - loss: 0.0909 - val_loss: 0.0414 - 44ms/epoch - 22ms/step\n",
            "Epoch 30/50\n",
            "2/2 - 0s - loss: 0.0887 - val_loss: 0.0410 - 43ms/epoch - 22ms/step\n",
            "Epoch 31/50\n",
            "2/2 - 0s - loss: 0.0859 - val_loss: 0.0388 - 37ms/epoch - 19ms/step\n",
            "Epoch 32/50\n",
            "2/2 - 0s - loss: 0.0823 - val_loss: 0.0354 - 37ms/epoch - 18ms/step\n",
            "Epoch 33/50\n",
            "2/2 - 0s - loss: 0.0780 - val_loss: 0.0320 - 35ms/epoch - 18ms/step\n",
            "Epoch 34/50\n",
            "2/2 - 0s - loss: 0.0731 - val_loss: 0.0288 - 35ms/epoch - 17ms/step\n",
            "Epoch 35/50\n",
            "2/2 - 0s - loss: 0.0680 - val_loss: 0.0263 - 36ms/epoch - 18ms/step\n",
            "Epoch 36/50\n",
            "2/2 - 0s - loss: 0.0632 - val_loss: 0.0245 - 36ms/epoch - 18ms/step\n",
            "Epoch 37/50\n",
            "2/2 - 0s - loss: 0.0587 - val_loss: 0.0233 - 55ms/epoch - 27ms/step\n",
            "Epoch 38/50\n",
            "2/2 - 0s - loss: 0.0548 - val_loss: 0.0229 - 36ms/epoch - 18ms/step\n",
            "Epoch 39/50\n",
            "2/2 - 0s - loss: 0.0521 - val_loss: 0.0234 - 36ms/epoch - 18ms/step\n",
            "Epoch 40/50\n",
            "2/2 - 0s - loss: 0.0512 - val_loss: 0.0233 - 43ms/epoch - 22ms/step\n",
            "Epoch 41/50\n",
            "2/2 - 0s - loss: 0.0505 - val_loss: 0.0231 - 38ms/epoch - 19ms/step\n",
            "Epoch 42/50\n",
            "2/2 - 0s - loss: 0.0495 - val_loss: 0.0242 - 40ms/epoch - 20ms/step\n",
            "Epoch 43/50\n",
            "2/2 - 0s - loss: 0.0490 - val_loss: 0.0257 - 49ms/epoch - 25ms/step\n",
            "Epoch 44/50\n",
            "2/2 - 0s - loss: 0.0492 - val_loss: 0.0266 - 43ms/epoch - 21ms/step\n",
            "Epoch 45/50\n",
            "2/2 - 0s - loss: 0.0493 - val_loss: 0.0267 - 37ms/epoch - 18ms/step\n",
            "Epoch 46/50\n",
            "2/2 - 0s - loss: 0.0486 - val_loss: 0.0263 - 38ms/epoch - 19ms/step\n",
            "Epoch 47/50\n",
            "2/2 - 0s - loss: 0.0478 - val_loss: 0.0257 - 35ms/epoch - 17ms/step\n",
            "Epoch 48/50\n",
            "2/2 - 0s - loss: 0.0475 - val_loss: 0.0254 - 38ms/epoch - 19ms/step\n",
            "Epoch 49/50\n",
            "2/2 - 0s - loss: 0.0474 - val_loss: 0.0254 - 36ms/epoch - 18ms/step\n",
            "Epoch 50/50\n",
            "2/2 - 0s - loss: 0.0472 - val_loss: 0.0256 - 35ms/epoch - 18ms/step\n"
          ]
        },
        {
          "output_type": "display_data",
          "data": {
            "text/plain": [
              "<Figure size 640x480 with 1 Axes>"
            ],
            "image/png": "[encoded data removed]"
          },
          "metadata": {}
        }
      ],
      "source": [
        "from keras.models import Sequential\n",
        "from keras.layers import Dense\n",
        "from keras.layers import LSTM\n",
        "\n",
        "# Design the LSTM network\n",
        "model = Sequential()\n",
        "model.add(LSTM(50, input_shape=(train_X.shape[1], train_X.shape[2])))\n",
        "model.add(Dense(1))\n",
        "model.compile(loss='mae', optimizer='adam')\n",
        "\n",
        "# Fit the network to the training data\n",
        "history = model.fit(train_X, train_y, epochs=50, batch_size=72, validation_data=(test_X, test_y), verbose=2, shuffle=False)\n",
        "\n",
        "# Plot the training and validation loss over time\n",
        "pyplot.plot(history.history['loss'], label='train')\n",
        "pyplot.plot(history.history['val_loss'], label='test')\n",
        "pyplot.legend()\n",
        "pyplot.show()\n"
      ]
    },
    {
      "cell_type": "markdown",
      "metadata": {
        "id": "zsIZJGe6q8yp"
      },
      "source": [
        "### Testing the LSTM Model and Calculating RMSE (Root Mean Square Error)\n",
        "After training our LSTM model, we will test its performance on the test data. We will use the trained model to make predictions on the test data and compare these predictions to the actual stock prices. To quantify the model's performance, we will calculate the Root Mean Square Error (RMSE) between the predicted and actual stock prices. RMSE is a commonly used metric for evaluating the performance of regression models.\n"
      ]
    },
    {
      "cell_type": "code",
      "execution_count": 31,
      "metadata": {
        "colab": {
          "base_uri": "https://localhost:8080/"
        },
        "id": "JQxDeAx8Ybin",
        "outputId": "4021d917-726a-45fb-e174-9a5795902def"
      },
      "outputs": [
        {
          "output_type": "stream",
          "name": "stdout",
          "text": [
            "1/1 [==============================] - 1s 589ms/step\n",
            "Test RMSE: 494.947\n"
          ]
        }
      ],
      "source": [
        "# Make predictions on the test data\n",
        "yhat = model.predict(test_X)\n",
        "\n",
        "# Reshape the test data\n",
        "test_X = test_X.reshape((test_X.shape[0], test_X.shape[2]))\n",
        "\n",
        "# Invert scaling for the predicted values\n",
        "inv_yhat = concatenate((yhat, test_X[:, 1:]), axis=1)\n",
        "inv_yhat = scaler.inverse_transform(inv_yhat)\n",
        "inv_yhat = inv_yhat[:,0]\n",
        "\n",
        "# Invert scaling for the actual values\n",
        "test_y = test_y.reshape((len(test_y), 1))\n",
        "inv_y = concatenate((test_y, test_X[:, 1:]), axis=1)\n",
        "inv_y = scaler.inverse_transform(inv_y)\n",
        "inv_y = inv_y[:,0]\n",
        "\n",
        "# Calculate the RMSE between the predicted and actual values\n",
        "rmse = sqrt(mean_squared_error(inv_y, inv_yhat))\n",
        "print('Test RMSE: %.3f' % rmse)\n"
      ]
    },
    {
      "cell_type": "markdown",
      "metadata": {
        "id": "1VNcbWHcckS5"
      },
      "source": [
        "We observe an RMSE of 494.947, which means that the predicted stock prices can be off by 494.947 units on average. Considering that the stock prices are in the order of tens of thousands (e.g., around 48k units), this is a pretty good RMSE. It shows that our hybrid model, which combines sentiment analysis with historical stock prices, works excellently in predicting future stock prices.\n"
      ]
    }
  ],
  "metadata": {
    "colab": {
      "provenance": []
    },
    "kernelspec": {
      "display_name": "Python 3",
      "name": "python3"
    }
  },
  "nbformat": 4,
  "nbformat_minor": 0
}